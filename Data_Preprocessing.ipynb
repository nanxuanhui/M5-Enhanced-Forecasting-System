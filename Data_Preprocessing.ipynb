{
 "cells": [
  {
   "cell_type": "markdown",
   "id": "500e6250",
   "metadata": {},
   "source": [
    "# Data Preprocessing"
   ]
  },
  {
   "cell_type": "markdown",
   "id": "47f9e0c0",
   "metadata": {},
   "source": [
    "calendar.csv: contains information such as dates, holidays, events, etc\n",
    "\n",
    "sales_train_validation.csv: daily sales of each product, rows are products, columns are d_1, d_2...\n",
    "\n",
    "sell_prices.csv: the selling price of a product in a store in a certain week\n",
    "\n",
    "sample_submission.csv: format for submitting predictions\n",
    "\n",
    "sales_train_evaluation.csv: contains some evaluation data"
   ]
  },
  {
   "cell_type": "code",
   "execution_count": 3,
   "id": "74d81d63",
   "metadata": {},
   "outputs": [],
   "source": [
    "import pandas as pd\n",
    "import holidays"
   ]
  },
  {
   "cell_type": "code",
   "execution_count": 4,
   "id": "663a11e4",
   "metadata": {},
   "outputs": [],
   "source": [
    "# Load datasets\n",
    "calendar_df = pd.read_csv('Dataset/calendar.csv')\n",
    "sales_val_df = pd.read_csv('Dataset/sales_train_validation.csv')\n",
    "sell_prices_df = pd.read_csv('Dataset/sell_prices.csv')"
   ]
  },
  {
   "cell_type": "code",
   "execution_count": 5,
   "id": "d3c0551c",
   "metadata": {},
   "outputs": [],
   "source": [
    "# Convert sales data from wide to long format\n",
    "sales_long_df = pd.melt(sales_val_df,\n",
    "                        id_vars=['id', 'item_id', 'dept_id', 'cat_id', 'store_id', 'state_id'],\n",
    "                        var_name='d',\n",
    "                        value_name='sales')\n",
    "\n",
    "# Merge sales data with calendar\n",
    "sales_calendar_df = sales_long_df.merge(calendar_df, on='d', how='left')\n",
    "\n",
    "# Merge with sell prices\n",
    "full_df = sales_calendar_df.merge(sell_prices_df,\n",
    "                                  on=['store_id', 'item_id', 'wm_yr_wk'],\n",
    "                                  how='left')"
   ]
  },
  {
   "cell_type": "code",
   "execution_count": 6,
   "id": "3a36f8b5",
   "metadata": {},
   "outputs": [],
   "source": [
    "# Create basic date-related features\n",
    "full_df['date'] = pd.to_datetime(full_df['date'])\n",
    "full_df['day_of_week'] = full_df['date'].dt.dayofweek\n",
    "full_df['month'] = full_df['date'].dt.month\n",
    "full_df['year'] = full_df['date'].dt.year\n",
    "full_df['is_weekend'] = full_df['day_of_week'].isin([5, 6]).astype(int)"
   ]
  },
  {
   "cell_type": "code",
   "execution_count": 7,
   "id": "0bd3e688",
   "metadata": {},
   "outputs": [],
   "source": [
    "# Add US holiday features\n",
    "us_holidays = holidays.US()\n",
    "full_df['is_us_holiday'] = full_df['date'].isin(us_holidays).astype(int)\n",
    "full_df['us_holiday_name'] = full_df['date'].map(us_holidays)"
   ]
  },
  {
   "cell_type": "code",
   "execution_count": 8,
   "id": "311c1243",
   "metadata": {},
   "outputs": [
    {
     "name": "stderr",
     "output_type": "stream",
     "text": [
      "/var/folders/zv/n9dl8wj94hqfxs9swp91wt0w0000gn/T/ipykernel_83024/287304803.py:11: FutureWarning: The default fill_method='ffill' in SeriesGroupBy.pct_change is deprecated and will be removed in a future version. Either fill in any non-leading NA values prior to calling pct_change or specify 'fill_method=None' to not fill NA values.\n",
      "  full_df['price_change'] = full_df.groupby(['store_id', 'item_id'])['sell_price'].pct_change()\n"
     ]
    }
   ],
   "source": [
    "# Sort by date for lag features\n",
    "full_df = full_df.sort_values(['store_id', 'item_id', 'date'])\n",
    "\n",
    "# Generate lag features (e.g., lag 7 days)\n",
    "full_df['sales_lag_7'] = full_df.groupby(['store_id', 'item_id'])['sales'].shift(7)\n",
    "\n",
    "# Rolling mean features (past 7-day sales average)\n",
    "full_df['rolling_mean_7'] = full_df.groupby(['store_id', 'item_id'])['sales'].transform(lambda x: x.shift(1).rolling(window=7).mean())\n",
    "\n",
    "# Price-related features\n",
    "full_df['price_change'] = full_df.groupby(['store_id', 'item_id'])['sell_price'].pct_change()\n",
    "\n",
    "# Optimize memory usage\n",
    "for col in ['item_id', 'dept_id', 'cat_id', 'store_id', 'state_id', 'event_name_1', 'event_type_1', 'event_name_2', 'event_type_2']:\n",
    "    full_df[col] = full_df[col].astype('category')"
   ]
  },
  {
   "cell_type": "code",
   "execution_count": 11,
   "id": "0afb7b0c",
   "metadata": {},
   "outputs": [],
   "source": [
    "# Save processed data for modeling\n",
    "full_df.to_pickle('Dataset/processed_sales_data.pkl')"
   ]
  },
  {
   "cell_type": "code",
   "execution_count": 13,
   "id": "042609c0",
   "metadata": {},
   "outputs": [
    {
     "name": "stdout",
     "output_type": "stream",
     "text": [
      "                                 id      item_id  dept_id cat_id store_id  \\\n",
      "1612    FOODS_1_001_CA_1_validation  FOODS_1_001  FOODS_1  FOODS     CA_1   \n",
      "32102   FOODS_1_001_CA_1_validation  FOODS_1_001  FOODS_1  FOODS     CA_1   \n",
      "62592   FOODS_1_001_CA_1_validation  FOODS_1_001  FOODS_1  FOODS     CA_1   \n",
      "93082   FOODS_1_001_CA_1_validation  FOODS_1_001  FOODS_1  FOODS     CA_1   \n",
      "123572  FOODS_1_001_CA_1_validation  FOODS_1_001  FOODS_1  FOODS     CA_1   \n",
      "\n",
      "       state_id    d  sales       date  wm_yr_wk  ... snap_TX  snap_WI  \\\n",
      "1612         CA  d_1      3 2011-01-29     11101  ...       0        0   \n",
      "32102        CA  d_2      0 2011-01-30     11101  ...       0        0   \n",
      "62592        CA  d_3      0 2011-01-31     11101  ...       0        0   \n",
      "93082        CA  d_4      1 2011-02-01     11101  ...       1        0   \n",
      "123572       CA  d_5      4 2011-02-02     11101  ...       0        1   \n",
      "\n",
      "        sell_price  day_of_week is_weekend is_us_holiday us_holiday_name  \\\n",
      "1612           2.0            5          1             0             NaN   \n",
      "32102          2.0            6          1             0             NaN   \n",
      "62592          2.0            0          0             0             NaN   \n",
      "93082          2.0            1          0             0             NaN   \n",
      "123572         2.0            2          0             0             NaN   \n",
      "\n",
      "       sales_lag_7  rolling_mean_7  price_change  \n",
      "1612           NaN             NaN           NaN  \n",
      "32102          NaN             NaN           0.0  \n",
      "62592          NaN             NaN           0.0  \n",
      "93082          NaN             NaN           0.0  \n",
      "123572         NaN             NaN           0.0  \n",
      "\n",
      "[5 rows x 29 columns]\n"
     ]
    }
   ],
   "source": [
    "print(full_df.head())"
   ]
  }
 ],
 "metadata": {
  "kernelspec": {
   "display_name": "m5",
   "language": "python",
   "name": "python3"
  },
  "language_info": {
   "codemirror_mode": {
    "name": "ipython",
    "version": 3
   },
   "file_extension": ".py",
   "mimetype": "text/x-python",
   "name": "python",
   "nbconvert_exporter": "python",
   "pygments_lexer": "ipython3",
   "version": "3.9.21"
  }
 },
 "nbformat": 4,
 "nbformat_minor": 5
}
